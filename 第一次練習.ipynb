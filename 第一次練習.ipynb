{
  "nbformat": 4,
  "nbformat_minor": 0,
  "metadata": {
    "colab": {
      "provenance": [],
      "gpuType": "T4"
    },
    "kernelspec": {
      "name": "python3",
      "display_name": "Python 3"
    },
    "language_info": {
      "name": "python"
    },
    "accelerator": "GPU"
  },
  "cells": [
    {
      "cell_type": "code",
      "source": [
        "a=['apple','banana','orange']\n",
        "b=[1,2,3,4,5]\n",
        "c=['apple',1,2,3,]\n",
        "d=list('apple')\n",
        "print(a)\n",
        "print(b)\n",
        "print(c)\n",
        "print(d)\n"
      ],
      "metadata": {
        "colab": {
          "base_uri": "https://localhost:8080/"
        },
        "id": "cXK-TRIpUpq-",
        "outputId": "dfe790a4-ec98-4a47-d1ba-821b3a62c00c"
      },
      "execution_count": null,
      "outputs": [
        {
          "output_type": "stream",
          "name": "stdout",
          "text": [
            "['apple', 'banana', 'orange']\n",
            "[1, 2, 3, 4, 5]\n",
            "['apple', 1, 2, 3]\n",
            "['a', 'p', 'p', 'l', 'e']\n"
          ]
        }
      ]
    },
    {
      "cell_type": "code",
      "source": [
        "a=dict(name='ooxx',age=18,eat=['apple','banana'])\n",
        "print(type(a))"
      ],
      "metadata": {
        "colab": {
          "base_uri": "https://localhost:8080/"
        },
        "id": "zWu5bR1KfUvj",
        "outputId": "27215b3c-a812-4f04-a11b-ff4da37d0e8b"
      },
      "execution_count": null,
      "outputs": [
        {
          "output_type": "stream",
          "name": "stdout",
          "text": [
            "<class 'dict'>\n"
          ]
        }
      ]
    },
    {
      "cell_type": "code",
      "source": [
        "a=2\n",
        "b=3\n",
        "if(a<b):\n",
        "  print('a<b');\n",
        "  if a==1:\n",
        "     print('a=1');\n",
        "  elif a==2:\n",
        "     print('a=2');\n",
        "  elif a==3:\n",
        "     print('a=3');\n",
        "\n",
        "elif(a>b):\n",
        "  print('a>b');\n",
        "else:\n",
        "  print(a=b);\n",
        "print('ok');"
      ],
      "metadata": {
        "colab": {
          "base_uri": "https://localhost:8080/"
        },
        "id": "0MorvXSGqt_H",
        "outputId": "06d57b0d-69b8-454f-ab4f-729fc431c3f9"
      },
      "execution_count": null,
      "outputs": [
        {
          "output_type": "stream",
          "name": "stdout",
          "text": [
            "a<b\n",
            "a=2\n",
            "ok\n"
          ]
        }
      ]
    },
    {
      "cell_type": "code",
      "source": [
        "for a in ['x','y','z']:\n",
        "  for b in [1,2,3]:\n",
        "    print(b)\n",
        "print(a)\n"
      ],
      "metadata": {
        "colab": {
          "base_uri": "https://localhost:8080/"
        },
        "id": "jqQYMrOdsmtd",
        "outputId": "ab4c7689-1231-49b3-e2e1-b17f40f41f38"
      },
      "execution_count": null,
      "outputs": [
        {
          "output_type": "stream",
          "name": "stdout",
          "text": [
            "1\n",
            "2\n",
            "3\n",
            "1\n",
            "2\n",
            "3\n",
            "1\n",
            "2\n",
            "3\n",
            "z\n"
          ]
        }
      ]
    },
    {
      "cell_type": "code",
      "source": [
        "for a in ['x','y','z']:\n",
        "  for b in [1,2,3]:\n",
        "    print(f'{a}{b}')"
      ],
      "metadata": {
        "colab": {
          "base_uri": "https://localhost:8080/"
        },
        "id": "GgnDU4XftrCB",
        "outputId": "25e50e1f-e9d6-435b-eefe-8dcc7ccbfca6"
      },
      "execution_count": null,
      "outputs": [
        {
          "output_type": "stream",
          "name": "stdout",
          "text": [
            "x1\n",
            "x2\n",
            "x3\n",
            "y1\n",
            "y2\n",
            "y3\n",
            "z1\n",
            "z2\n",
            "z3\n"
          ]
        }
      ]
    },
    {
      "cell_type": "code",
      "source": [
        "i=[]\n",
        "for t in range(10):\n",
        "  t+=1;\n",
        "  i.append(t)\n",
        "i#做十次，從尾部加數字"
      ],
      "metadata": {
        "colab": {
          "base_uri": "https://localhost:8080/"
        },
        "id": "20jSH4bCuI7t",
        "outputId": "61669976-b65f-4151-c3cf-93f174ff543a"
      },
      "execution_count": null,
      "outputs": [
        {
          "output_type": "execute_result",
          "data": {
            "text/plain": [
              "[1, 2, 3, 4, 5, 6, 7, 8, 9, 10]"
            ]
          },
          "metadata": {},
          "execution_count": 43
        }
      ]
    },
    {
      "cell_type": "code",
      "source": [
        "a=input('輸入數字:')\n",
        "  c=a+1\n",
        "  print(c)#這裡出現問題，輸入屬於文字\n"
      ],
      "metadata": {
        "colab": {
          "base_uri": "https://localhost:8080/",
          "height": 193
        },
        "id": "1vIngIilvETb",
        "outputId": "5787900c-512a-4091-aa28-267f86b5692c"
      },
      "execution_count": null,
      "outputs": [
        {
          "name": "stdout",
          "output_type": "stream",
          "text": [
            "輸入數字:5\n"
          ]
        },
        {
          "output_type": "error",
          "ename": "TypeError",
          "evalue": "can only concatenate str (not \"int\") to str",
          "traceback": [
            "\u001b[0;31m---------------------------------------------------------------------------\u001b[0m",
            "\u001b[0;31mTypeError\u001b[0m                                 Traceback (most recent call last)",
            "\u001b[0;32m<ipython-input-61-f6d59f56e53e>\u001b[0m in \u001b[0;36m<cell line: 2>\u001b[0;34m()\u001b[0m\n\u001b[1;32m      1\u001b[0m \u001b[0ma\u001b[0m\u001b[0;34m=\u001b[0m\u001b[0minput\u001b[0m\u001b[0;34m(\u001b[0m\u001b[0;34m'輸入數字:'\u001b[0m\u001b[0;34m)\u001b[0m\u001b[0;34m\u001b[0m\u001b[0;34m\u001b[0m\u001b[0m\n\u001b[0;32m----> 2\u001b[0;31m \u001b[0mc\u001b[0m\u001b[0;34m=\u001b[0m\u001b[0ma\u001b[0m\u001b[0;34m+\u001b[0m\u001b[0;36m1\u001b[0m\u001b[0;34m\u001b[0m\u001b[0;34m\u001b[0m\u001b[0m\n\u001b[0m\u001b[1;32m      3\u001b[0m \u001b[0mprint\u001b[0m\u001b[0;34m(\u001b[0m\u001b[0mc\u001b[0m\u001b[0;34m)\u001b[0m\u001b[0;34m\u001b[0m\u001b[0;34m\u001b[0m\u001b[0m\n",
            "\u001b[0;31mTypeError\u001b[0m: can only concatenate str (not \"int\") to str"
          ]
        }
      ]
    },
    {
      "cell_type": "code",
      "source": [
        "try:\n",
        "\n",
        "  a=input('輸入數字:')\n",
        "  c=a+1\n",
        "  print(c)\n",
        "except:\n",
        "  pass\n",
        "print('hello')#因上問題導致此處即使輸入數字也被判定為文字"
      ],
      "metadata": {
        "colab": {
          "base_uri": "https://localhost:8080/"
        },
        "id": "hP-xBcm6yBVo",
        "outputId": "f912f9c9-a465-43b0-990c-b6bae045b0fb"
      },
      "execution_count": null,
      "outputs": [
        {
          "output_type": "stream",
          "name": "stdout",
          "text": [
            "輸入數字:5\n",
            "hello\n"
          ]
        }
      ]
    },
    {
      "cell_type": "code",
      "source": [
        "try:\n",
        "\n",
        "  a=int(input('輸入數字:'))\n",
        "  print(a+1)\n",
        "except:\n",
        "  pass\n",
        "print('hello')#解決辦法為強制轉型為int型態"
      ],
      "metadata": {
        "id": "2yScn7PKKS4V"
      },
      "execution_count": null,
      "outputs": []
    },
    {
      "cell_type": "markdown",
      "source": [],
      "metadata": {
        "id": "hJqpEzHZxUcp"
      }
    },
    {
      "cell_type": "code",
      "source": [
        "a=[]\n",
        "for i in range(1,10):\n",
        "  a.append(i*i)\n",
        " # print(a)這行註解掉，免去過程\n",
        "b=[j*j for j in range(1,10)]\n",
        "print(b)"
      ],
      "metadata": {
        "colab": {
          "base_uri": "https://localhost:8080/"
        },
        "id": "MUXhHuauwpsU",
        "outputId": "b1562f08-e3a2-40f1-9a8f-368ebd587b46"
      },
      "execution_count": null,
      "outputs": [
        {
          "output_type": "stream",
          "name": "stdout",
          "text": [
            "[1, 4, 9, 16, 25, 36, 49, 64, 81]\n"
          ]
        }
      ]
    },
    {
      "cell_type": "code",
      "source": [],
      "metadata": {
        "id": "jitjSvQuq30X"
      },
      "execution_count": null,
      "outputs": []
    }
  ]
}